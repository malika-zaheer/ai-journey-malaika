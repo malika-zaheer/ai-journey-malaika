{
  "nbformat": 4,
  "nbformat_minor": 0,
  "metadata": {
    "colab": {
      "provenance": [],
      "authorship_tag": "ABX9TyPMmxrVAaFTc9QhQ/gMZauo",
      "include_colab_link": true
    },
    "kernelspec": {
      "name": "python3",
      "display_name": "Python 3"
    },
    "language_info": {
      "name": "python"
    }
  },
  "cells": [
    {
      "cell_type": "markdown",
      "metadata": {
        "id": "view-in-github",
        "colab_type": "text"
      },
      "source": [
        "<a href=\"https://colab.research.google.com/github/malika-zaheer/ai-journey-malaika/blob/main/Day8_File_handling_in_python.ipynb\" target=\"_parent\"><img src=\"https://colab.research.google.com/assets/colab-badge.svg\" alt=\"Open In Colab\"/></a>"
      ]
    },
    {
      "cell_type": "code",
      "execution_count": 4,
      "metadata": {
        "colab": {
          "base_uri": "https://localhost:8080/"
        },
        "id": "mErhTMqRygjC",
        "outputId": "a936b28d-3157-4694-dcf8-633b927721fc"
      },
      "outputs": [
        {
          "output_type": "stream",
          "name": "stdout",
          "text": [
            "📖 File Content:\n",
            " Hello, this is my first file in Python!\n",
            "Learning file handling is fun.\n",
            "\n",
            "➡ Hello, this is my first file in Python!\n",
            "➡ Learning file handling is fun.\n",
            "➡ I am adding a new line at the end.\n"
          ]
        }
      ],
      "source": [
        "# Writing text into a file\n",
        "file = open(\"my_notes.txt\", \"w\")   # \"w\" = write mode (overwrites)\n",
        "file.write(\"Hello, this is my first file in Python!\\n\")\n",
        "file.write(\"Learning file handling is fun.\\n\")\n",
        "file.close()\n",
        "\n",
        "# Reading content from a file\n",
        "file = open(\"my_notes.txt\", \"r\")   # \"r\" = read mode\n",
        "content = file.read()\n",
        "file.close()\n",
        "\n",
        "print(\"📖 File Content:\\n\", content)\n",
        "\n",
        "# Adding new text without deleting old content\n",
        "file = open(\"my_notes.txt\", \"a\")   # \"a\" = append mode\n",
        "file.write(\"I am adding a new line at the end.\\n\")\n",
        "file.close()\n",
        "\n",
        "#Reading line by line\n",
        "file = open(\"my_notes.txt\", \"r\")\n",
        "for line in file:\n",
        "    print(\"➡\", line.strip())   # strip removes extra spaces/newline\n",
        "file.close()\n"
      ]
    },
    {
      "cell_type": "code",
      "source": [
        "#mini-exercise\n",
        "1# Create a file students.txt.\n",
        "file = open(\"student.txt\", \"w\")\n",
        "\n",
        "2# Write 3 student names into it (one per line).\n",
        "file.write(\"Huma\\n\")\n",
        "file.write(\"Hira\\n\")\n",
        "file.write(\"Humiara\\n\")\n",
        "file.close()\n",
        "\n",
        "3# Read the file and print all names.\n",
        "file = open(\"student.txt\", \"r\")\n",
        "content = file.read()\n",
        "print(\"Content\\n\", content)\n",
        "file.close()\n",
        "\n",
        "4# Append your own name at the end.\n",
        "file = open(\"student.txt\", \"a\")\n",
        "file.write(\"Malaika\")\n",
        "file.close()\n",
        "\n",
        "5# Read the file again and show the updated list.\n",
        "file = open(\"student.txt\", \"r\")\n",
        "content = file.read()\n",
        "print(\"Updated File Content\\n\", content)\n",
        "file.close()"
      ],
      "metadata": {
        "colab": {
          "base_uri": "https://localhost:8080/"
        },
        "id": "2NRCnzEO00De",
        "outputId": "dec0e8c5-367b-4ae5-db61-014ed346fc6b"
      },
      "execution_count": 16,
      "outputs": [
        {
          "output_type": "stream",
          "name": "stdout",
          "text": [
            "Content\n",
            " Huma\n",
            "Hira\n",
            "Humiara\n",
            "\n",
            "Updated File Content\n",
            " Huma\n",
            "Hira\n",
            "Humiara\n",
            "Malaika\n"
          ]
        }
      ]
    },
    {
      "cell_type": "markdown",
      "source": [
        "Quiz 8:\n",
        "1. \"a\" mode\n",
        "2. if a open a file that already exist, the new content overrides the previous\n",
        "3. file = open(\"student.txt\", \"r\")\n",
        "   content = file.readline()\n",
        "4.It actually removes leading and trailing whitespace (including spaces, tabs, or \\n).\n",
        "5. True"
      ],
      "metadata": {
        "id": "MsqjXU0F3QXH"
      }
    }
  ]
}