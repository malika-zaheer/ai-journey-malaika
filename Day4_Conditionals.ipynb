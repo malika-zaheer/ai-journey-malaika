{
  "nbformat": 4,
  "nbformat_minor": 0,
  "metadata": {
    "colab": {
      "provenance": [],
      "authorship_tag": "ABX9TyOmUWbih4uqCw4jMgZH13QG",
      "include_colab_link": true
    },
    "kernelspec": {
      "name": "python3",
      "display_name": "Python 3"
    },
    "language_info": {
      "name": "python"
    }
  },
  "cells": [
    {
      "cell_type": "markdown",
      "metadata": {
        "id": "view-in-github",
        "colab_type": "text"
      },
      "source": [
        "<a href=\"https://colab.research.google.com/github/malika-zaheer/ai-journey-malaika/blob/main/Day4_Conditionals.ipynb\" target=\"_parent\"><img src=\"https://colab.research.google.com/assets/colab-badge.svg\" alt=\"Open In Colab\"/></a>"
      ]
    },
    {
      "cell_type": "code",
      "execution_count": null,
      "metadata": {
        "colab": {
          "base_uri": "https://localhost:8080/"
        },
        "id": "plnyrIeY-RzN",
        "outputId": "14bc9523-f2e2-4668-ff83-13787fda2c41"
      },
      "outputs": [
        {
          "output_type": "stream",
          "name": "stdout",
          "text": [
            "You are a male.\n",
            "You are not a male.\n",
            "You are neither male nor tall.\n",
            "You are either not male or tall or both.\n",
            "You are not a male but you are tall.\n"
          ]
        }
      ],
      "source": [
        "#if statement\n",
        "is_male = True\n",
        "if is_male:\n",
        "  print(\"You are a male.\")\n",
        "#if-else statement\n",
        "is_male = False\n",
        "if is_male:\n",
        "  print(\"You are a male.\")\n",
        "else:\n",
        "  print(\"You are not a male.\")\n",
        "#if-else statement (or operator)\n",
        "is_male = False\n",
        "is_tall = False\n",
        "if is_male or is_tall:\n",
        "  print(\"You are a male or tall or both.\")\n",
        "else:\n",
        "  print(\"You are neither male nor tall.\")\n",
        "#if-else statement (and operator)\n",
        "is_male = True\n",
        "is_tall = False\n",
        "if is_male and is_tall:\n",
        "  print(\"You are a tall male.\")\n",
        "else:\n",
        "  print(\"You are either not male or tall or both.\")\n",
        "#elif (else-if statment)\n",
        "is_male = False\n",
        "is_tall = True\n",
        "if is_male and is_tall:\n",
        "  print(\"You are a tall male.\")\n",
        "elif is_male and not(is_tall):\n",
        "  print(\"You are a short male.\")\n",
        "elif not(is_male) and is_tall:\n",
        "  print(\"You are not a male but you are tall.\")\n",
        "else:\n",
        "  print(\"You are either not male and not tall.\")"
      ]
    },
    {
      "cell_type": "code",
      "source": [
        "#Function\n",
        "def say_hi():\n",
        "  print(\"Hello user!\")\n",
        "print(\"top\")\n",
        "#call the function\n",
        "say_hi()\n",
        "print(\"bottom\")\n",
        "#Function (passing parameter)\n",
        "def say_hi(name, age):\n",
        "  print(\"Hello \" + name+ \", you are \"+ str(age)+ \" years old.\")\n",
        "#call the function\n",
        "say_hi(\"Mike\", 19)\n",
        "say_hi(\"Tim\", 22)"
      ],
      "metadata": {
        "colab": {
          "base_uri": "https://localhost:8080/"
        },
        "id": "r0gsYNTDE8YZ",
        "outputId": "8e17dc50-7939-4ce6-e9a8-c25d86d0ead3"
      },
      "execution_count": null,
      "outputs": [
        {
          "output_type": "stream",
          "name": "stdout",
          "text": [
            "top\n",
            "Hello user!\n",
            "bottom\n",
            "Hello Mike, you are 19 years old.\n",
            "Hello Tim, you are 22 years old.\n"
          ]
        }
      ]
    },
    {
      "cell_type": "code",
      "source": [
        "#Return statement\n",
        "def cube(num):\n",
        "  return num*num*num\n",
        "result = cube(5)\n",
        "print(result)"
      ],
      "metadata": {
        "colab": {
          "base_uri": "https://localhost:8080/"
        },
        "id": "-JzJvfBFISS5",
        "outputId": "8b909b9b-ddd3-42f8-9de6-17b1b48637f5"
      },
      "execution_count": null,
      "outputs": [
        {
          "output_type": "stream",
          "name": "stdout",
          "text": [
            "125\n"
          ]
        }
      ]
    },
    {
      "cell_type": "code",
      "source": [
        "#If statements and Comparisons\n",
        "def max_num(num1, num2, num3):\n",
        "  if num1>=num2 and num1>=num3:\n",
        "    return num1\n",
        "  elif num2>=num1 and num2>=num3:\n",
        "    return num2\n",
        "  else:\n",
        "    return num3\n",
        "max_num(3, 24, 7)"
      ],
      "metadata": {
        "colab": {
          "base_uri": "https://localhost:8080/"
        },
        "id": "QGT3QibZJnCE",
        "outputId": "61292352-d7ab-462f-e2b4-e001f1ee2f4b"
      },
      "execution_count": null,
      "outputs": [
        {
          "output_type": "execute_result",
          "data": {
            "text/plain": [
              "24"
            ]
          },
          "metadata": {},
          "execution_count": 28
        }
      ]
    },
    {
      "cell_type": "code",
      "source": [
        "#Building a calculator\n",
        "num1 = float(input(\"Enter a number: \"))\n",
        "op = input(\"Enter a operator: \")\n",
        "num2 = float(input(\"Enter the second number: \"))\n",
        "if op == \"+\":\n",
        "  print(num1 + num2)\n",
        "elif op == \"-\":\n",
        "  print(num1 - num2)\n",
        "elif op == \"*\":\n",
        "  print(num1 * num2)\n",
        "elif op == \"/\":\n",
        "  print(num1 / num2)\n",
        "else:\n",
        "  print(\"You entered a invalid operator.\")"
      ],
      "metadata": {
        "colab": {
          "base_uri": "https://localhost:8080/"
        },
        "id": "peZwRzOVLaSS",
        "outputId": "0e28511d-5827-49f1-c792-91adb1a869c3"
      },
      "execution_count": null,
      "outputs": [
        {
          "output_type": "stream",
          "name": "stdout",
          "text": [
            "Enter a number: 3\n",
            "Enter a operator: *\n",
            "Enter the second number: 5\n",
            "15.0\n"
          ]
        }
      ]
    },
    {
      "cell_type": "code",
      "source": [
        "# ----- Basic if -----\n",
        "x = 10\n",
        "if x > 5:\n",
        "    print(\"x is greater than 5\")\n",
        "\n",
        "# ----- if-else -----\n",
        "age = 18\n",
        "if age >= 18:\n",
        "    print(\"You are an adult\")\n",
        "else:\n",
        "    print(\"You are a minor\")\n",
        "\n",
        "# ----- if-elif-else -----\n",
        "marks = 72\n",
        "if marks >= 90:\n",
        "    print(\"Grade: A\")\n",
        "elif marks >= 80:\n",
        "    print(\"Grade: B\")\n",
        "elif marks >= 70:\n",
        "    print(\"Grade: C\")\n",
        "else:\n",
        "    print(\"Grade: D\")\n",
        "\n",
        "# ----- Boolean logic -----\n",
        "is_student = True\n",
        "has_id = False\n",
        "\n",
        "if is_student and has_id:\n",
        "    print(\"You get a student discount\")\n",
        "elif is_student and not has_id:\n",
        "    print(\"Bring your student ID next time\")\n",
        "else:\n",
        "    print(\"No discount\")\n"
      ],
      "metadata": {
        "colab": {
          "base_uri": "https://localhost:8080/"
        },
        "id": "NZcNYYy9NPw7",
        "outputId": "3299102f-9bcb-4f39-8b7f-e3182fe8fe5d"
      },
      "execution_count": null,
      "outputs": [
        {
          "output_type": "stream",
          "name": "stdout",
          "text": [
            "x is greater than 5\n",
            "You are an adult\n",
            "Grade: C\n",
            "Bring your student ID next time\n"
          ]
        }
      ]
    },
    {
      "cell_type": "code",
      "source": [
        "#Mini_exercise\n",
        "age = int(input(\"Enter your age: \"))\n",
        "print(age)\n",
        "if age < 13:\n",
        "  print(\"You are a child.\")\n",
        "elif age>=13 and age<=19:\n",
        "  print(\"You are a teenager.\")\n",
        "elif age>=20 and age<=59:\n",
        "  print(\"You are an adult\")\n",
        "elif age >= 60:\n",
        "  print(\"You are a senior citizen.\")\n",
        "else:\n",
        "  print(\"Invalid output.\")"
      ],
      "metadata": {
        "colab": {
          "base_uri": "https://localhost:8080/"
        },
        "id": "veVKiTEHNlMc",
        "outputId": "efbbda09-091e-4467-8d57-bbe476cddc33"
      },
      "execution_count": null,
      "outputs": [
        {
          "output_type": "stream",
          "name": "stdout",
          "text": [
            "Enter your age: 23\n",
            "23\n",
            "You are an adult\n"
          ]
        }
      ]
    },
    {
      "cell_type": "markdown",
      "source": [
        "#Quiz4:\n",
        "1. if, elif, else\n",
        "2. Large\n",
        "3. in and the condition will return true only when both the values are true and in or statement, the condition will return false only if both of the values are false.\n",
        "4. Bye\n",
        "5. true"
      ],
      "metadata": {
        "id": "Kw_1BjGgU493"
      }
    }
  ]
}