{
  "nbformat": 4,
  "nbformat_minor": 0,
  "metadata": {
    "colab": {
      "provenance": [],
      "authorship_tag": "ABX9TyOrg6gKqEydqU5tZH7xu4dh",
      "include_colab_link": true
    },
    "kernelspec": {
      "name": "python3",
      "display_name": "Python 3"
    },
    "language_info": {
      "name": "python"
    }
  },
  "cells": [
    {
      "cell_type": "markdown",
      "metadata": {
        "id": "view-in-github",
        "colab_type": "text"
      },
      "source": [
        "<a href=\"https://colab.research.google.com/github/malika-zaheer/ai-journey-malaika/blob/main/Day5_Loops.ipynb\" target=\"_parent\"><img src=\"https://colab.research.google.com/assets/colab-badge.svg\" alt=\"Open In Colab\"/></a>"
      ]
    },
    {
      "cell_type": "code",
      "source": [],
      "metadata": {
        "id": "_458bRqcg9Ny"
      },
      "execution_count": null,
      "outputs": []
    },
    {
      "cell_type": "code",
      "source": [
        "#Building a guessing game\n",
        "secret_word = \"life\"\n",
        "user_guess = \"\"\n",
        "guess_count = 0\n",
        "guess_limit = 3\n",
        "out_of_guesses = False\n",
        "while user_guess != secret_word and not(out_of_guesses):\n",
        "  if guess_count < guess_limit:\n",
        "    user_guess = input(\"Enter guess: \")\n",
        "    guess_count +=1\n",
        "  else:\n",
        "    out_of_guesses = True\n",
        "if out_of_guesses:\n",
        "  print(\"Out of guesses, YOU LOSE!\")\n",
        "else:\n",
        "  print(\"You win!\")"
      ],
      "metadata": {
        "colab": {
          "base_uri": "https://localhost:8080/"
        },
        "id": "EOTvMgFgdhRS",
        "outputId": "36ce7704-883e-4704-e04b-5b516408536a"
      },
      "execution_count": null,
      "outputs": [
        {
          "output_type": "stream",
          "name": "stdout",
          "text": [
            "Enter guess: live\n",
            "Enter guess: life\n",
            "You win!\n"
          ]
        }
      ]
    },
    {
      "cell_type": "code",
      "source": [
        "#for loops\n",
        "for letter in \"Malaika Zaheer\":\n",
        "  print(letter)\n",
        "\n",
        "#with arrays\n",
        "Friends = [\"Jim\", \"Tim\", \"Kim\"]\n",
        "#to find length of array\n",
        "\n",
        "\n",
        "for index in range(len(Friends)):\n",
        "  print(Friends[index])\n",
        "\n",
        "for index in range(10):\n",
        "  print(index)\n",
        "\n",
        "for index in range(3, 10):\n",
        "  print(index)\n",
        "\n",
        "Friends = [\"Jim\", \"Tim\", \"Kim\"]\n",
        "for index in range(5):\n",
        "  if index == 0:\n",
        "    print(\"First Iteration\")\n",
        "  else:\n",
        "    print(\"Not first\")"
      ],
      "metadata": {
        "colab": {
          "base_uri": "https://localhost:8080/"
        },
        "id": "ZX3poCFXfmgV",
        "outputId": "22a3278b-54ca-4436-cb60-2526e28e9649"
      },
      "execution_count": null,
      "outputs": [
        {
          "output_type": "stream",
          "name": "stdout",
          "text": [
            "M\n",
            "a\n",
            "l\n",
            "a\n",
            "i\n",
            "k\n",
            "a\n",
            " \n",
            "Z\n",
            "a\n",
            "h\n",
            "e\n",
            "e\n",
            "r\n",
            "Jim\n",
            "Tim\n",
            "Kim\n",
            "0\n",
            "1\n",
            "2\n",
            "3\n",
            "4\n",
            "5\n",
            "6\n",
            "7\n",
            "8\n",
            "9\n",
            "3\n",
            "4\n",
            "5\n",
            "6\n",
            "7\n",
            "8\n",
            "9\n",
            "First Iteration\n",
            "Not first\n",
            "Not first\n",
            "Not first\n",
            "Not first\n"
          ]
        }
      ]
    },
    {
      "cell_type": "code",
      "source": [
        "# ----- For loop with a list -----\n",
        "fruits = [\"apple\", \"banana\", \"cherry\"]\n",
        "for fruit in fruits:\n",
        "    print(\"I like\", fruit)\n",
        "\n",
        "# ----- For loop with range -----\n",
        "for i in range(5):\n",
        "    print(\"Number:\", i)\n",
        "\n",
        "# ----- While loop -----\n",
        "count = 0\n",
        "while count < 5:\n",
        "    print(\"Count is:\", count)\n",
        "    count += 1\n",
        "\n",
        "# ----- Break and Continue -----\n",
        "for i in range(10):\n",
        "    if i == 5:\n",
        "        break   # stops loop at 5\n",
        "    print(\"Break Example:\", i)\n",
        "\n",
        "for i in range(10):\n",
        "    if i % 2 == 0:\n",
        "        continue   # skips even numbers\n",
        "    print(\"Continue Example:\", i)\n"
      ],
      "metadata": {
        "colab": {
          "base_uri": "https://localhost:8080/"
        },
        "id": "fDGYns4ygrv1",
        "outputId": "eb6a1aa8-a566-4bcd-c00b-ba4f203b750c"
      },
      "execution_count": null,
      "outputs": [
        {
          "output_type": "stream",
          "name": "stdout",
          "text": [
            "I like apple\n",
            "I like banana\n",
            "I like cherry\n",
            "Number: 0\n",
            "Number: 1\n",
            "Number: 2\n",
            "Number: 3\n",
            "Number: 4\n",
            "Count is: 0\n",
            "Count is: 1\n",
            "Count is: 2\n",
            "Count is: 3\n",
            "Count is: 4\n",
            "Break Example: 0\n",
            "Break Example: 1\n",
            "Break Example: 2\n",
            "Break Example: 3\n",
            "Break Example: 4\n",
            "Continue Example: 1\n",
            "Continue Example: 3\n",
            "Continue Example: 5\n",
            "Continue Example: 7\n",
            "Continue Example: 9\n"
          ]
        }
      ]
    },
    {
      "cell_type": "code",
      "source": [
        "#while loop\n",
        "i = 1\n",
        "while i<=10:\n",
        "  print(i)\n",
        "  i +=1\n",
        "print(\"Done with the loop\")"
      ],
      "metadata": {
        "colab": {
          "base_uri": "https://localhost:8080/"
        },
        "id": "B5n0VdkchCGy",
        "outputId": "4a0b01f5-4c9a-431d-9cbe-2a4cf583b5cf"
      },
      "execution_count": null,
      "outputs": [
        {
          "output_type": "stream",
          "name": "stdout",
          "text": [
            "1\n",
            "2\n",
            "3\n",
            "4\n",
            "5\n",
            "6\n",
            "7\n",
            "8\n",
            "9\n",
            "10\n",
            "Done with the loop\n"
          ]
        }
      ]
    },
    {
      "cell_type": "code",
      "source": [
        "#mini-exercise\n",
        "1.\n",
        "for n in range(1, 11):\n",
        "  print(n)\n",
        "2.\n",
        "num = int(input(\"Enter a number: \"))\n",
        "for n in range(1, num + 1):\n",
        "  print(n)\n",
        "3.\n",
        "count = 0\n",
        "while count <5:\n",
        "  print(\"Hello!\")\n",
        "  count +=1"
      ],
      "metadata": {
        "colab": {
          "base_uri": "https://localhost:8080/"
        },
        "id": "kP79RVVti6MT",
        "outputId": "9a1da478-2710-4007-8a55-982ef1f4b0ce"
      },
      "execution_count": null,
      "outputs": [
        {
          "output_type": "stream",
          "name": "stdout",
          "text": [
            "1\n",
            "2\n",
            "3\n",
            "4\n",
            "5\n",
            "6\n",
            "7\n",
            "8\n",
            "9\n",
            "10\n",
            "Enter a number: 9\n",
            "1\n",
            "2\n",
            "3\n",
            "4\n",
            "5\n",
            "6\n",
            "7\n",
            "8\n",
            "9\n",
            "Hello!\n",
            "Hello!\n",
            "Hello!\n",
            "Hello!\n",
            "Hello!\n"
          ]
        }
      ]
    },
    {
      "cell_type": "code",
      "source": [
        "for i in range(3):\n",
        "    print(\"Hi\")\n"
      ],
      "metadata": {
        "colab": {
          "base_uri": "https://localhost:8080/"
        },
        "id": "ms1g3iKpmwVj",
        "outputId": "da5533b4-0a18-4b2e-8d30-264b79397417"
      },
      "execution_count": null,
      "outputs": [
        {
          "output_type": "stream",
          "name": "stdout",
          "text": [
            "Hi\n",
            "Hi\n",
            "Hi\n"
          ]
        }
      ]
    },
    {
      "cell_type": "markdown",
      "source": [
        "Quiz 5:\n",
        "1. while\n",
        "2. Hi\n",
        "   Hi\n",
        "   Hi\n",
        "3. for i in range(_1__, __6_):\n",
        "    print(i)\n",
        "4. break → immediately exits the loop, regardless of condition.\n",
        "\n",
        "continue → skips the current iteration and moves to the next loop cycle.\n",
        "5. True"
      ],
      "metadata": {
        "id": "3tOQ1INOmhDj"
      }
    }
  ]
}