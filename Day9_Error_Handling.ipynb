{
  "nbformat": 4,
  "nbformat_minor": 0,
  "metadata": {
    "colab": {
      "provenance": [],
      "authorship_tag": "ABX9TyPzO+bE2NVH5TBtg4j/kldI",
      "include_colab_link": true
    },
    "kernelspec": {
      "name": "python3",
      "display_name": "Python 3"
    },
    "language_info": {
      "name": "python"
    }
  },
  "cells": [
    {
      "cell_type": "markdown",
      "metadata": {
        "id": "view-in-github",
        "colab_type": "text"
      },
      "source": [
        "<a href=\"https://colab.research.google.com/github/malika-zaheer/ai-journey-malaika/blob/main/Day9_Error_Handling.ipynb\" target=\"_parent\"><img src=\"https://colab.research.google.com/assets/colab-badge.svg\" alt=\"Open In Colab\"/></a>"
      ]
    },
    {
      "cell_type": "code",
      "execution_count": 26,
      "metadata": {
        "colab": {
          "base_uri": "https://localhost:8080/"
        },
        "id": "8n2TkzME5heK",
        "outputId": "48f0b884-699d-45b6-dfd4-6ad17fbff061"
      },
      "outputs": [
        {
          "output_type": "stream",
          "name": "stdout",
          "text": [
            "Oops! You cannot divide by zero.\n",
            "That was not a number!\n",
            "File not found!\n",
            "This block always runs.\n",
            "Enter a number: 6\n",
            "You entered: 6\n"
          ]
        }
      ],
      "source": [
        "#try/except\n",
        "try:\n",
        "    x = 10 / 0\n",
        "except ZeroDivisionError:\n",
        "    print(\"Oops! You cannot divide by zero.\")\n",
        "\n",
        "#catching multiple errors\n",
        "try:\n",
        "    num = int(\"abc\")   # invalid conversion\n",
        "except ValueError:\n",
        "    print(\"That was not a number!\")\n",
        "except ZeroDivisionError:\n",
        "    print(\"Division by zero not allowed\")\n",
        "\n",
        "#using finally\n",
        "try:\n",
        "    file = open(\"demo.txt\", \"r\")\n",
        "    content = file.read()\n",
        "except FileNotFoundError:\n",
        "    print(\"File not found!\")\n",
        "finally:\n",
        "    print(\"This block always runs.\")\n",
        "\n",
        "try:\n",
        "    num = int(input(\"Enter a number: \"))\n",
        "    print(\"You entered:\", num)\n",
        "except ValueError:\n",
        "    print(\"That's not a valid number!\")\n"
      ]
    },
    {
      "cell_type": "code",
      "source": [
        "#mini-exercise\n",
        "1# Write code that divides two numbers entered by the user. If the user enters zero as the denominator, handle the error and print a friendly message.\n",
        "try:\n",
        "  num1 = int(input(\"Enter the numerator: \"))\n",
        "  num2 = int(input(\"Enter the denomirator: \"))\n",
        "  result = num1/num2\n",
        "  print(result)\n",
        "except ZeroDivisionError:\n",
        "  print(\"Divison by zero is not possible\")\n",
        "finally:\n",
        "  print(\"dividing two numbers\")\n",
        "\n",
        "2# Write code to open a file \"notes.txt\" in read mode. If the file doesn’t exist, handle the error with a message: \"File not found!\".\n",
        "try:\n",
        "  file = open(\"notes.txt\", \"r\")\n",
        "  content = file.read()\n",
        "  print(content)\n",
        "except FileNotFoundError:\n",
        "  print(\"File not found\")\n",
        "\n",
        "#3# Use a finally block in any example to show that it always runs.\n",
        "#Doing it in part 1\n",
        "\n"
      ],
      "metadata": {
        "colab": {
          "base_uri": "https://localhost:8080/"
        },
        "id": "3zVzCX8p73dh",
        "outputId": "586c2a78-fff4-4571-d552-f194c49231e8"
      },
      "execution_count": 15,
      "outputs": [
        {
          "output_type": "stream",
          "name": "stdout",
          "text": [
            "Enter the numerator: 21\n",
            "Enter the denomirator: 3\n",
            "7.0\n",
            "dividing two numbers\n",
            "File not found\n"
          ]
        }
      ]
    },
    {
      "cell_type": "markdown",
      "source": [
        "Quiz 9:\n",
        "1. try/except\n",
        "2. it stops the whole program fron being executed\n",
        "3. try:\n",
        "    num = int(input(\"Enter a number: \"))\n",
        "    print(\"You entered:\", num)\n",
        "except ValueError:\n",
        "    print(\"That's not a valid number!\")\n",
        "\n",
        "4. except block is excuted to handles the error in try block and the finally is always excuted in every situation\n",
        "5. True\n",
        "     "
      ],
      "metadata": {
        "id": "oNbFczaQ_hcQ"
      }
    }
  ]
}