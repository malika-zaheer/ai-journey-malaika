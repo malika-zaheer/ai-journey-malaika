{
  "nbformat": 4,
  "nbformat_minor": 0,
  "metadata": {
    "colab": {
      "provenance": [],
      "authorship_tag": "ABX9TyNI/njFF6pA5Zy2Rig+I5JO",
      "include_colab_link": true
    },
    "kernelspec": {
      "name": "python3",
      "display_name": "Python 3"
    },
    "language_info": {
      "name": "python"
    }
  },
  "cells": [
    {
      "cell_type": "markdown",
      "metadata": {
        "id": "view-in-github",
        "colab_type": "text"
      },
      "source": [
        "<a href=\"https://colab.research.google.com/github/malika-zaheer/ai-journey-malaika/blob/main/Day2_Variables.ipynb\" target=\"_parent\"><img src=\"https://colab.research.google.com/assets/colab-badge.svg\" alt=\"Open In Colab\"/></a>"
      ]
    },
    {
      "cell_type": "code",
      "execution_count": null,
      "metadata": {
        "colab": {
          "base_uri": "https://localhost:8080/"
        },
        "id": "P4vkpB-gvmOH",
        "outputId": "a8bb2598-32e6-4004-a8dd-d97704001844"
      },
      "outputs": [
        {
          "output_type": "stream",
          "name": "stdout",
          "text": [
            "3\n",
            "9.07\n",
            "-7.87\n",
            "14\n",
            "49\n",
            "112\n",
            "The sum of a and b is 17\n",
            "9\n",
            "My favourite number is 7\n",
            "9 is my favourite number\n",
            "2\n",
            "16.0\n",
            "3\n",
            "0.1\n",
            "3\n",
            "4\n",
            "3\n",
            "4\n",
            "4.0\n"
          ]
        }
      ],
      "source": [
        "from math import *\n",
        "\n",
        "#printing number\n",
        "print(3)\n",
        "print(9.07)\n",
        "print(-7.87)\n",
        "\n",
        "#mathematical operation\n",
        "print(8+6)\n",
        "print(8*5+9)\n",
        "print(8*(5+9))\n",
        "\n",
        "#variable numbers\n",
        "a=8\n",
        "b=9\n",
        "print(\"The sum of a and b is\", a+b)\n",
        "my_num=9\n",
        "print(my_num)\n",
        "\n",
        "#string with number\n",
        "print(\"My favourite number is\", 7)\n",
        "print(str(my_num), \"is my favourite number\")\n",
        "\n",
        "#Functions\n",
        "my_num=-2\n",
        "print(abs(my_num))\n",
        "print(pow(4,2))\n",
        "print(max(3,0.1))\n",
        "print(min(3,0.1))\n",
        "print(round(3.2))\n",
        "print(round(3.9))\n",
        "\n",
        "#import the library to use these functions\n",
        "#grab lower number\n",
        "print(floor(3.7))\n",
        "#grab higher number\n",
        "print(ceil(3.7))\n",
        "#square root\n",
        "print(sqrt(16))"
      ]
    },
    {
      "cell_type": "code",
      "source": [
        "#Getting input from user\n",
        "name = input(\"Enter your name:\")\n",
        "age = input(\"Enter your age:\")\n",
        "print(\"Hello \", name, \"!\\nYou are\", age, \" year old now!\")\n",
        "\n",
        "# Variables\n",
        "name = \"Malaika\"\n",
        "age = 20\n",
        "is_student = True\n",
        "height = 5.4  # in feet\n",
        "\n",
        "print(\"Name:\", name)\n",
        "print(\"Age:\", age)\n",
        "print(\"Student:\", is_student)\n",
        "print(\"Height:\", height)\n",
        "\n",
        "# String operations\n",
        "greeting = \"  Hello AI World!  \"\n",
        "print(greeting.strip())        # Remove spaces\n",
        "print(greeting.lower())        # Lowercase\n",
        "print(greeting.upper())        # Uppercase\n",
        "print(greeting.replace(\"AI\", \"Machine Learning\"))\n",
        "\n",
        "# String slicing\n",
        "print(name[0])   # First character\n",
        "print(name[-1])  # Last character\n",
        "print(name[1:4]) # Characters from index 1 to 3\n",
        "\n",
        "#Mini exercise\n",
        "First_name=input(\"Enter first name: \")\n",
        "Last_name=input(\"Enter last name: \")\n",
        "print(\"WELCOME\", First_name.upper()+\" \"+Last_name.upper()+\"!\")"
      ],
      "metadata": {
        "colab": {
          "base_uri": "https://localhost:8080/"
        },
        "id": "u7pRbv7b0aIk",
        "outputId": "c97b3f94-6bb7-4464-a572-685c5fc4eef5"
      },
      "execution_count": 36,
      "outputs": [
        {
          "output_type": "stream",
          "name": "stdout",
          "text": [
            "Enter your name:Malaika\n",
            "Enter your age:20\n",
            "Hello  Malaika !\n",
            "You are 20  year old now!\n",
            "Name: Malaika\n",
            "Age: 20\n",
            "Student: True\n",
            "Height: 5.4\n",
            "Hello AI World!\n",
            "  hello ai world!  \n",
            "  HELLO AI WORLD!  \n",
            "  Hello Machine Learning World!  \n",
            "M\n",
            "a\n",
            "ala\n",
            "Enter first name: Malaika\n",
            "Enter last name: Zaheer\n",
            "WELCOME MALAIKA ZAHEER!\n"
          ]
        }
      ]
    }
  ]
}