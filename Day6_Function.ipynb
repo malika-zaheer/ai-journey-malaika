{
  "nbformat": 4,
  "nbformat_minor": 0,
  "metadata": {
    "colab": {
      "provenance": [],
      "authorship_tag": "ABX9TyML5qcymAzKI9mkawh4yUhx",
      "include_colab_link": true
    },
    "kernelspec": {
      "name": "python3",
      "display_name": "Python 3"
    },
    "language_info": {
      "name": "python"
    }
  },
  "cells": [
    {
      "cell_type": "markdown",
      "metadata": {
        "id": "view-in-github",
        "colab_type": "text"
      },
      "source": [
        "<a href=\"https://colab.research.google.com/github/malika-zaheer/ai-journey-malaika/blob/main/Day6_Function.ipynb\" target=\"_parent\"><img src=\"https://colab.research.google.com/assets/colab-badge.svg\" alt=\"Open In Colab\"/></a>"
      ]
    },
    {
      "cell_type": "code",
      "execution_count": 2,
      "metadata": {
        "colab": {
          "base_uri": "https://localhost:8080/"
        },
        "id": "6PYAfDuAo9by",
        "outputId": "bc70d5c9-5ac5-414f-9839-8cca338026b1"
      },
      "outputs": [
        {
          "output_type": "stream",
          "name": "stdout",
          "text": [
            "Hello, welcome to Python!\n",
            "Hello Malaika\n",
            "8\n",
            "Hello Friend\n",
            "Hello Malaika\n",
            "1\n",
            "4\n",
            "9\n",
            "16\n",
            "25\n"
          ]
        }
      ],
      "source": [
        "#Defining and Calling a Function\n",
        "def greet():\n",
        "    print(\"Hello, welcome to Python!\")\n",
        "\n",
        "greet()   # calling the function\n",
        "\n",
        "#Function with Parameters\n",
        "def greet(name):\n",
        "    print(\"Hello\", name)\n",
        "\n",
        "greet(\"Malaika\")\n",
        "\n",
        "#Function with Return Value\n",
        "def add(a, b):\n",
        "    return a + b\n",
        "\n",
        "result = add(5, 3)\n",
        "print(result)\n",
        "\n",
        "#Default Parameters\n",
        "def greet(name=\"Friend\"):\n",
        "    print(\"Hello\", name)\n",
        "\n",
        "greet()           # uses default\n",
        "greet(\"Malaika\")  # overrides default\n",
        "\n",
        "#Functions inside loops\n",
        "def square(num):\n",
        "    return num * num\n",
        "\n",
        "for i in range(1, 6):\n",
        "    print(square(i))\n",
        "\n"
      ]
    },
    {
      "cell_type": "code",
      "source": [
        "#mini-exercise\n",
        "1.\n",
        "def welcome_user():\n",
        "  print(\"Welcome to python learning!\")\n",
        "welcome_user()\n",
        "\n",
        "2.\n",
        "def mul(a, b):\n",
        "  return a*b\n",
        "result = mul(2, 3)\n",
        "print(result)\n",
        "\n",
        "3.\n",
        "def is_even(num):\n",
        "  if num%2 ==0:\n",
        "    return True\n",
        "  else:\n",
        "    return False\n",
        "is_even(6)\n",
        "\n",
        "4.\n",
        "def greet_user(name):\n",
        "  print(\"hello\", name, \"good to see you!\")\n",
        "greet_user(\"Malaika\")"
      ],
      "metadata": {
        "colab": {
          "base_uri": "https://localhost:8080/"
        },
        "id": "jm--6-Bep2q7",
        "outputId": "82b6359d-4d65-44cf-c8a6-990e13163074"
      },
      "execution_count": 1,
      "outputs": [
        {
          "output_type": "stream",
          "name": "stdout",
          "text": [
            "Welcome to python learning!\n",
            "6\n",
            "hello Malaika good to see you!\n"
          ]
        }
      ]
    },
    {
      "cell_type": "markdown",
      "source": [
        "Quiz 6:\n",
        "1. def\n",
        "2. yes function can return multiple values\n",
        "3. def my_function():\n",
        "    print(\"Hello\")\n",
        "4. Difference between return and print\n",
        "\n",
        "✅ Correct idea! Let me refine your wording a bit:\n",
        "\n",
        "print() → shows output on the screen (for humans).\n",
        "\n",
        "return → sends the value back to the caller (for the program to use).\n",
        "5. True"
      ],
      "metadata": {
        "id": "9R7RELHiroch"
      }
    }
  ]
}