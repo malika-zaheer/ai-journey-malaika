{
  "nbformat": 4,
  "nbformat_minor": 0,
  "metadata": {
    "colab": {
      "provenance": [],
      "authorship_tag": "ABX9TyP/peupMci6sLYypn0BvVBg",
      "include_colab_link": true
    },
    "kernelspec": {
      "name": "python3",
      "display_name": "Python 3"
    },
    "language_info": {
      "name": "python"
    }
  },
  "cells": [
    {
      "cell_type": "markdown",
      "metadata": {
        "id": "view-in-github",
        "colab_type": "text"
      },
      "source": [
        "<a href=\"https://colab.research.google.com/github/malika-zaheer/ai-journey-malaika/blob/main/Day11_Inheritance.ipynb\" target=\"_parent\"><img src=\"https://colab.research.google.com/assets/colab-badge.svg\" alt=\"Open In Colab\"/></a>"
      ]
    },
    {
      "cell_type": "code",
      "execution_count": 1,
      "metadata": {
        "colab": {
          "base_uri": "https://localhost:8080/"
        },
        "id": "kLBBuRBjB84x",
        "outputId": "3e22e3c0-26e0-4df9-dfb8-806aedd95f18"
      },
      "outputs": [
        {
          "output_type": "stream",
          "name": "stdout",
          "text": [
            "Buddy barks\n",
            "Kitty meows\n"
          ]
        }
      ],
      "source": [
        "# Parent class\n",
        "class Animal:\n",
        "    def __init__(self, name):\n",
        "        self.name = name\n",
        "\n",
        "    def speak(self):\n",
        "        print(self.name, \"makes a sound\")\n",
        "\n",
        "# Child class\n",
        "class Dog(Animal):\n",
        "    def speak(self):   # overriding the parent method\n",
        "        print(self.name, \"barks\")\n",
        "\n",
        "# Child class\n",
        "class Cat(Animal):\n",
        "    def speak(self):\n",
        "        print(self.name, \"meows\")\n",
        "\n",
        "# Objects\n",
        "dog1 = Dog(\"Buddy\")\n",
        "cat1 = Cat(\"Kitty\")\n",
        "\n",
        "dog1.speak()  # Buddy barks\n",
        "cat1.speak()  # Kitty meows\n"
      ]
    },
    {
      "cell_type": "code",
      "source": [
        "#mini-exercise\n",
        "class Person:\n",
        "  def __init__(self,name,age):\n",
        "    self.name =  name\n",
        "    self.age = age\n",
        "\n",
        "  def introduce(self):\n",
        "    print(\"Hi, i am \", self.name , \"and i am \", self.age, \"years old.\")\n",
        "\n",
        "class Student(Person):\n",
        "  def __init__(self, name, age, student_id):\n",
        "    super().__init__(name, age)           # Call the parent class constructor to set name and age\n",
        "    self.student_id =  student_id\n",
        "\n",
        "  def display_id(self):\n",
        "    print(\"My student id is \", self.student_id)\n",
        "\n",
        "class Teacher(Person):\n",
        "  def __init__(self, name, age, subject):\n",
        "    super().__init__(name, age)\n",
        "    self.subject = subject\n",
        "\n",
        "  def teach(self):\n",
        "    print(\"I teach\", self.subject)\n",
        "\n",
        "Student1 = Student(\"Tim\", 19, 123)\n",
        "Student1.introduce()\n",
        "Student1.display_id()\n",
        "\n",
        "Teacher1 = Teacher(\"Stacey\", 22, \"Math\")\n",
        "Teacher1.introduce()\n",
        "Teacher1.teach()\n"
      ],
      "metadata": {
        "colab": {
          "base_uri": "https://localhost:8080/"
        },
        "id": "_TqgjzvICbQc",
        "outputId": "7026fdec-5b6a-4711-a6a9-b2e1203c71da"
      },
      "execution_count": 16,
      "outputs": [
        {
          "output_type": "stream",
          "name": "stdout",
          "text": [
            "Hi, i am  Tim and i am  19 years old.\n",
            "My student id is  123\n",
            "Hi, i am  Stacey and i am  22 years old.\n",
            "I teach Math\n"
          ]
        }
      ]
    },
    {
      "cell_type": "code",
      "source": [
        "class Animal:\n",
        "  def __init__(self, name, species):\n",
        "    self.name = name\n",
        "    self.species = species\n",
        "\n",
        "class Dog(Animal):\n",
        "  def __init__(self,name, species, breed):\n",
        "    super().__init__(name, species)\n",
        "    self.breed = breed\n",
        "\n",
        "dog = Dog(\"BLACKIE\", \"RARE\", \"EXPENSIVE\")\n",
        "print(dog.breed)"
      ],
      "metadata": {
        "colab": {
          "base_uri": "https://localhost:8080/"
        },
        "id": "CKp9UQ8-REnz",
        "outputId": "3fdaec99-bbc4-4ab2-dd2f-d33111e1e5fb"
      },
      "execution_count": 20,
      "outputs": [
        {
          "output_type": "stream",
          "name": "stdout",
          "text": [
            "EXPENSIVE\n"
          ]
        }
      ]
    },
    {
      "cell_type": "markdown",
      "source": [
        "Quiz 11\n",
        "1. inheritance means that a class inherit the functions, attributes, methods from another class\n",
        "2. super()\n",
        "3. class Animal:\n",
        "  def __init__(self, name, species):\n",
        "    self.name = name\n",
        "    self.species = species\n",
        "\n",
        "class Dog(Animal):\n",
        "  def __init__(self,name, species, breed):\n",
        "    super().__init__(name, species)\n",
        "    self.breed = breed\n",
        "\n",
        "dog = Dog(\"BLACKIE\", \"RARE\", \"EXPENSIVE\")\n",
        "print(dog.breed)\n",
        "4. a parent class is that from where things are being inherited and a child class is that inherits things from parent class\n",
        "5. True"
      ],
      "metadata": {
        "id": "U3DDIzxWQxT2"
      }
    }
  ]
}