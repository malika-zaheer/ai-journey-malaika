{
  "nbformat": 4,
  "nbformat_minor": 0,
  "metadata": {
    "colab": {
      "provenance": [],
      "authorship_tag": "ABX9TyNkZ4+DJFfAI78pmnEKehMb",
      "include_colab_link": true
    },
    "kernelspec": {
      "name": "python3",
      "display_name": "Python 3"
    },
    "language_info": {
      "name": "python"
    }
  },
  "cells": [
    {
      "cell_type": "markdown",
      "metadata": {
        "id": "view-in-github",
        "colab_type": "text"
      },
      "source": [
        "<a href=\"https://colab.research.google.com/github/malika-zaheer/ai-journey-malaika/blob/main/Day3_DataStructures.ipynb\" target=\"_parent\"><img src=\"https://colab.research.google.com/assets/colab-badge.svg\" alt=\"Open In Colab\"/></a>"
      ]
    },
    {
      "cell_type": "code",
      "execution_count": null,
      "metadata": {
        "colab": {
          "base_uri": "https://localhost:8080/"
        },
        "id": "SEOW56A8ft8j",
        "outputId": "81fd09e9-9515-4023-f46d-4f134b0b7e4c"
      },
      "outputs": [
        {
          "output_type": "stream",
          "name": "stdout",
          "text": [
            "Enter a colour: white\n",
            "Enter a plural noun: seas\n",
            "Enter a celebrity name: jenna ortega\n",
            "Roses are white\n",
            "seas are blue\n",
            "I love jenna ortega\n"
          ]
        }
      ],
      "source": [
        " #Madlibs Game\n",
        "colour = input(\"Enter a colour: \")\n",
        "plural_noun = input(\"Enter a plural noun: \")\n",
        "celebrity = input(\"Enter a celebrity name: \")\n",
        "print(\"Roses are \" + colour)\n",
        "print(plural_noun +\" are blue\")\n",
        "print(\"I love \" + celebrity)"
      ]
    },
    {
      "cell_type": "code",
      "source": [
        "#Lists are mutuable (can make changes to them)\n",
        "things = [\"Ali\", \"Sara\", 3, True, 4]\n",
        "#print list\n",
        "print(things)\n",
        "#print element based on index\n",
        "print(things[3])\n",
        "#print last element\n",
        "print(things[-1])\n",
        "#print from 1 and onwards\n",
        "print(things[1:])\n",
        "#print within range\n",
        "print(things[1:3])\n",
        "#Modify elements in list\n",
        "things[2] = 45\n",
        "print(things)"
      ],
      "metadata": {
        "colab": {
          "base_uri": "https://localhost:8080/"
        },
        "id": "8jYpW9dtoc6z",
        "outputId": "dc86fd20-d347-42eb-f576-bf5bab8b5a29"
      },
      "execution_count": null,
      "outputs": [
        {
          "output_type": "stream",
          "name": "stdout",
          "text": [
            "['Ali', 'Sara', 3, True, 4]\n",
            "True\n",
            "4\n",
            "['Sara', 3, True, 4]\n",
            "['Sara', 3]\n",
            "['Ali', 'Sara', 45, True, 4]\n"
          ]
        }
      ]
    },
    {
      "cell_type": "code",
      "source": [
        "#List Functions\n",
        "friends = [\"Sara\", \"Zara\", \"Ali\", \"Tim\"]\n",
        "birthday_date=[12, 6, 9, 9, 27]\n",
        "print(friends)\n",
        "#Insert any item in list by specifying its index\n",
        "friends.insert(1, \"Malaika\")\n",
        "print(friends)\n",
        "#Extend function to add another list on the end of one list\n",
        "friends.extend(birthday_date)\n",
        "print(friends)\n",
        "#To add an item in list at end\n",
        "friends.append(\"Jim\")\n",
        "print(friends)\n",
        "#Removing elements frome list\n",
        "friends.remove(\"Sara\")\n",
        "print(friends)\n",
        "#Removing all elements from list\n",
        "friends.clear()\n",
        "print(friends)\n",
        "#Removes last element from the list\n",
        "birthday_date.pop()\n",
        "print(birthday_date)\n",
        "#Search any value in list\n",
        "print(birthday_date.index(6))\n",
        "#counting a value\n",
        "print(birthday_date.count(9))\n",
        "#sort the list\n",
        "birthday_date.sort()\n",
        "print(birthday_date)\n",
        "#reversing a list\n",
        "birthday_date.reverse()\n",
        "print(birthday_date)\n",
        "#creating a copy of list\n",
        "birthday_date2 = birthday_date.copy()\n",
        "print(birthday_date2)"
      ],
      "metadata": {
        "colab": {
          "base_uri": "https://localhost:8080/"
        },
        "id": "bloNJ1czwgZy",
        "outputId": "f9b028e4-6bc5-4db3-8867-0c79305db12d"
      },
      "execution_count": null,
      "outputs": [
        {
          "output_type": "stream",
          "name": "stdout",
          "text": [
            "['Sara', 'Zara', 'Ali', 'Tim']\n",
            "['Sara', 'Malaika', 'Zara', 'Ali', 'Tim']\n",
            "['Sara', 'Malaika', 'Zara', 'Ali', 'Tim', 12, 6, 9, 9, 27]\n",
            "['Sara', 'Malaika', 'Zara', 'Ali', 'Tim', 12, 6, 9, 9, 27, 'Jim']\n",
            "['Malaika', 'Zara', 'Ali', 'Tim', 12, 6, 9, 9, 27, 'Jim']\n",
            "[]\n",
            "[12, 6, 9, 9]\n",
            "1\n",
            "2\n",
            "[6, 9, 9, 12]\n",
            "[12, 9, 9, 6]\n",
            "[12, 9, 9, 6]\n"
          ]
        }
      ]
    },
    {
      "cell_type": "code",
      "source": [
        "#Tuples are immutable (can't make changes to it)\n",
        "coordinates = (4,8)\n",
        "print(coordinates[0])"
      ],
      "metadata": {
        "colab": {
          "base_uri": "https://localhost:8080/"
        },
        "id": "A37r78ky2h2p",
        "outputId": "9fc51219-2b74-46dd-d98e-658a52b41e1b"
      },
      "execution_count": null,
      "outputs": [
        {
          "output_type": "stream",
          "name": "stdout",
          "text": [
            "4\n"
          ]
        }
      ]
    },
    {
      "cell_type": "code",
      "source": [
        "#Dictionaries\n",
        "monthConversion = {\n",
        "    \"Jan\" : \"January\",\n",
        "     \"Feb\" : \"Feburary\",\n",
        "     \"Mar\" : \"March\",\n",
        "     \"Apr\" : \"April\",\n",
        "     10 : \"May\",\n",
        "}\n",
        "monthConversion[\"Oct\"]= \"October\"\n",
        "print(monthConversion)\n",
        "print(monthConversion[\"Feb\"])\n",
        "#another way and if the value is not found it will print none ny itself\n",
        "print(monthConversion.get(\"Dec\"))\n",
        "#prints the msg instead of none if value is not found\n",
        "print(monthConversion.get(\"Dec\", \"Not a valid key\"))\n",
        "print(monthConversion.get(\"Jan\"))\n",
        "print(monthConversion.get(10))\n",
        "print(monthConversion.get(11, \"Not found\"))\n",
        "# Loop through dictionary\n",
        "for key, value in monthConversion.items():\n",
        "    print(key, \":\", value)\n"
      ],
      "metadata": {
        "colab": {
          "base_uri": "https://localhost:8080/"
        },
        "id": "5HHbtgi45e1E",
        "outputId": "0a77e665-15f5-402b-86e9-5a1dd4b3585d"
      },
      "execution_count": null,
      "outputs": [
        {
          "output_type": "stream",
          "name": "stdout",
          "text": [
            "{'Jan': 'January', 'Feb': 'Feburary', 'Mar': 'March', 'Apr': 'April', 10: 'May', 'Oct': 'October'}\n",
            "Feburary\n",
            "None\n",
            "Not a valid key\n",
            "January\n",
            "May\n",
            "Not found\n",
            "Jan : January\n",
            "Feb : Feburary\n",
            "Mar : March\n",
            "Apr : April\n",
            "10 : May\n",
            "Oct : October\n"
          ]
        }
      ]
    },
    {
      "cell_type": "code",
      "source": [
        "#Exercise\n",
        "# ----- Lists -----\n",
        "fruits = [\"apple\", \"banana\", \"cherry\"]\n",
        "print(fruits)\n",
        "fruits.append(\"orange\")        # Add item\n",
        "print(fruits)\n",
        "print(fruits[1])               # Access item by index\n",
        "fruits[0] = \"mango\"            # Change value\n",
        "print(fruits)\n",
        "\n",
        "# ----- Tuples -----\n",
        "colors = (\"red\", \"green\", \"blue\")\n",
        "print(colors)\n",
        "# colors[0] = \"yellow\"  # ❌ Error: tuples are immutable\n",
        "\n",
        "# ----- Dictionaries -----\n",
        "person = {\n",
        "    \"name\": \"Malaika\",\n",
        "    \"age\": 20,\n",
        "    \"city\": \"Lahore\"\n",
        "}\n",
        "print(person)\n",
        "print(person[\"name\"])          # Access value by key\n",
        "person[\"email\"] = \"test@mail.com\"  # Add key-value pair\n",
        "print(person)\n",
        "\n",
        "# Loop through dictionary\n",
        "for key, value in person.items():\n",
        "    print(key, \":\", value)\n"
      ],
      "metadata": {
        "colab": {
          "base_uri": "https://localhost:8080/"
        },
        "id": "FFrO4B328ua9",
        "outputId": "81f9e653-5a0e-4e1c-f3e5-12932bca403c"
      },
      "execution_count": null,
      "outputs": [
        {
          "output_type": "stream",
          "name": "stdout",
          "text": [
            "['apple', 'banana', 'cherry']\n",
            "['apple', 'banana', 'cherry', 'orange']\n",
            "banana\n",
            "['mango', 'banana', 'cherry', 'orange']\n",
            "('red', 'green', 'blue')\n",
            "{'name': 'Malaika', 'age': 20, 'city': 'Lahore'}\n",
            "Malaika\n",
            "{'name': 'Malaika', 'age': 20, 'city': 'Lahore', 'email': 'test@mail.com'}\n",
            "name : Malaika\n",
            "age : 20\n",
            "city : Lahore\n",
            "email : test@mail.com\n"
          ]
        }
      ]
    },
    {
      "cell_type": "code",
      "source": [
        "#Mini-exercise\n",
        "friends = [\"Ali\", \"Zara\", \"Tim\"]\n",
        "print(friends)\n",
        "friends.append(\"Malaika\")\n",
        "print(friends)\n",
        "ageOfFriends = {\n",
        "   \"Ali\" : 22,\n",
        "   \"Zara\" :12,\n",
        "   \"Tim\" : 29,\n",
        "   \"Malaika\" : 20,\n",
        "}\n",
        "for key,value in ageOfFriends.items():\n",
        "  print(\"My friend\", key, \"is\", value, \"years old.\")"
      ],
      "metadata": {
        "colab": {
          "base_uri": "https://localhost:8080/"
        },
        "id": "ExwTYD059vrp",
        "outputId": "a5427315-c7bc-4049-ea9c-6d2af8cd9139"
      },
      "execution_count": null,
      "outputs": [
        {
          "output_type": "stream",
          "name": "stdout",
          "text": [
            "['Ali', 'Zara', 'Tim']\n",
            "['Ali', 'Zara', 'Tim', 'Malaika']\n",
            "My friend Ali is 22 years old.\n",
            "My friend Zara is 12 years old.\n",
            "My friend Tim is 29 years old.\n",
            "My friend Malaika is 20 years old.\n"
          ]
        }
      ]
    },
    {
      "cell_type": "markdown",
      "source": [
        "Quiz3:\n",
        "1. fruits.append(\"grape\")\n",
        "2. Tuples are immutable means we can't make changes to them like add anything into it or delete something but on the other hand lists are immutable, so we can make changes in it like we can add any value or delete any value, and manymore.\n",
        "3. print(person[\"email\"])\n",
        "4.  by using given lines (person is a dictionary in this case)\n",
        "    for key,value in person.items():\n",
        "    print(key, :, value)\n",
        "5. False (because tuples are immutable)"
      ],
      "metadata": {
        "id": "9Aq-f1KuBrBF"
      }
    }
  ]
}