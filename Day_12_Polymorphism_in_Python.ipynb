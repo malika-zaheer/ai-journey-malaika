{
  "nbformat": 4,
  "nbformat_minor": 0,
  "metadata": {
    "colab": {
      "provenance": [],
      "authorship_tag": "ABX9TyMtpD2B2Q1pi4pWaK5K68dI",
      "include_colab_link": true
    },
    "kernelspec": {
      "name": "python3",
      "display_name": "Python 3"
    },
    "language_info": {
      "name": "python"
    }
  },
  "cells": [
    {
      "cell_type": "markdown",
      "metadata": {
        "id": "view-in-github",
        "colab_type": "text"
      },
      "source": [
        "<a href=\"https://colab.research.google.com/github/malika-zaheer/ai-journey-malaika/blob/main/Day_12_Polymorphism_in_Python.ipynb\" target=\"_parent\"><img src=\"https://colab.research.google.com/assets/colab-badge.svg\" alt=\"Open In Colab\"/></a>"
      ]
    },
    {
      "cell_type": "code",
      "execution_count": 3,
      "metadata": {
        "colab": {
          "base_uri": "https://localhost:8080/"
        },
        "id": "1SRt1qstlh-O",
        "outputId": "8dc8d25c-2249-4aa7-bc46-a74c2ce5e3af"
      },
      "outputs": [
        {
          "output_type": "stream",
          "name": "stdout",
          "text": [
            "Dog barks\n",
            "Cat meows\n",
            "Animals make different sounds\n",
            "7\n",
            "4\n",
            "5\n",
            "9\n"
          ]
        }
      ],
      "source": [
        "#Example 1: Method Overriding (OOP Polymorphism)\n",
        "class Animal:\n",
        "    def sound(self):\n",
        "        print(\"Animals make different sounds\")\n",
        "\n",
        "class Dog(Animal):\n",
        "    def sound(self):\n",
        "        print(\"Dog barks\")\n",
        "\n",
        "class Cat(Animal):\n",
        "    def sound(self):\n",
        "        print(\"Cat meows\")\n",
        "\n",
        "# Using polymorphism\n",
        "animals = [Dog(), Cat(), Animal()]\n",
        "for animal in animals:\n",
        "    animal.sound()\n",
        "\n",
        "#Example 2: Built-in Polymorphism\n",
        "print(len(\"Malaika\"))     # Works for string\n",
        "print(len([1, 2, 3, 4]))  # Works for list\n",
        "\n",
        "\n",
        "#Example 3: Function Polymorphism\n",
        "def add(x, y, z=0):\n",
        "    return x + y + z\n",
        "\n",
        "print(add(2, 3))      # 5\n",
        "print(add(2, 3, 4))   # 9\n"
      ]
    },
    {
      "cell_type": "code",
      "source": [
        "#mini-exercise\n",
        "class Shape:\n",
        "  def area(self):\n",
        "    print(\"To caluclate the area of dofferent shapes.\")\n",
        "\n",
        "class circle(Shape):\n",
        "  def area(self):\n",
        "    print(\"calculates area using πr²\")\n",
        "\n",
        "class rectangle(Shape):\n",
        "  def area(self):\n",
        "    print(\"calculates area using l × w\")\n",
        "\n",
        "shapes = [Shape(), circle(), rectangle()]\n",
        "for shape in shapes:\n",
        "  shape.area()\n",
        "\n",
        "\n",
        "\n",
        "print(len(\"Malaika\"))\n",
        "print(len([1,2,3,4,5]))\n",
        "print(2+2)\n",
        "print(\"He got \" + \"10\")\n",
        "\n",
        "\n",
        "def multiply(a, b, c=1):\n",
        "    return a * b * c\n",
        "\n",
        "print(multiply(2, 3))      # 6\n",
        "print(multiply(2, 3, 4))   # 24\n"
      ],
      "metadata": {
        "colab": {
          "base_uri": "https://localhost:8080/"
        },
        "id": "p09xj41foLCx",
        "outputId": "7700c50a-0f3f-4ea1-9d35-8d577c6f6bef"
      },
      "execution_count": 9,
      "outputs": [
        {
          "output_type": "stream",
          "name": "stdout",
          "text": [
            "To caluclate the area of dofferent shapes.\n",
            "calculates area using πr²\n",
            "calculates area using l × w\n",
            "7\n",
            "5\n",
            "4\n",
            "He got 10\n",
            "6\n",
            "24\n"
          ]
        }
      ]
    },
    {
      "cell_type": "markdown",
      "source": [
        "Quiz\n",
        "1. Option b\n",
        "2. Option a\n",
        "3. class Animal:\n",
        "    def sound(self):\n",
        "        print(\"Animals make different sounds\")\n",
        "\n",
        "class Dog(Animal):\n",
        "    def sound(self):\n",
        "        print(\"Dog barks\")\n",
        "\n",
        "class Cat(Animal):\n",
        "    def sound(self):\n",
        "        print(\"Cat meows\")\n",
        "\n",
        "animals = [Dog(), Cat(), Animal()]\n",
        "for animal in animals:\n",
        "    animal.sound()\n",
        "\n",
        "4. Method Overriding\n",
        "\n",
        "🔹 Definition: When a child class defines a method with the same name as a parent class method, and provides a new implementation.\n",
        "Method Overloading\n",
        "\n",
        "🔹 Definition: Having multiple methods with the same name but different parameters in the same class.\n",
        "🔹 Key Point: Python doesn’t support method overloading directly like Java or C++.\n",
        "5. False"
      ],
      "metadata": {
        "id": "HBOXEFrnrG38"
      }
    }
  ]
}