{
  "nbformat": 4,
  "nbformat_minor": 0,
  "metadata": {
    "colab": {
      "provenance": [],
      "authorship_tag": "ABX9TyPJFPUAxdT6Vcud32VTRnnK",
      "include_colab_link": true
    },
    "kernelspec": {
      "name": "python3",
      "display_name": "Python 3"
    },
    "language_info": {
      "name": "python"
    }
  },
  "cells": [
    {
      "cell_type": "markdown",
      "metadata": {
        "id": "view-in-github",
        "colab_type": "text"
      },
      "source": [
        "<a href=\"https://colab.research.google.com/github/malika-zaheer/ai-journey-malaika/blob/main/Day1_FirstPython.ipynb\" target=\"_parent\"><img src=\"https://colab.research.google.com/assets/colab-badge.svg\" alt=\"Open In Colab\"/></a>"
      ]
    },
    {
      "cell_type": "code",
      "execution_count": 2,
      "metadata": {
        "colab": {
          "base_uri": "https://localhost:8080/"
        },
        "id": "W5fdiXcFZ7Bd",
        "outputId": "0b7121cc-1440-455d-b118-a01d608f34cb"
      },
      "outputs": [
        {
          "output_type": "stream",
          "name": "stdout",
          "text": [
            "Hello Malika\n"
          ]
        }
      ],
      "source": [
        "print(\"Hello Malika\")"
      ]
    },
    {
      "cell_type": "code",
      "source": [
        "print(\"   /|\")\n",
        "print(\"  / |\")\n",
        "print(\" /  |\")\n",
        "print(\"/___|\")"
      ],
      "metadata": {
        "colab": {
          "base_uri": "https://localhost:8080/"
        },
        "id": "47CIVahggvdl",
        "outputId": "98ea24f3-749f-4abd-b0b0-5acf67f3578a"
      },
      "execution_count": 4,
      "outputs": [
        {
          "output_type": "stream",
          "name": "stdout",
          "text": [
            "   /|\n",
            "  / |\n",
            " /  |\n",
            "/___|\n"
          ]
        }
      ]
    },
    {
      "cell_type": "code",
      "source": [
        "person_name = \"Malaika\"\n",
        "person_age = \"19\"\n",
        "print(\"My name is \"+ person_name + \" and\")\n",
        "person_name = \"Aima\"\n",
        "print(person_name + \" is \" + person_age +\" old.\")"
      ],
      "metadata": {
        "colab": {
          "base_uri": "https://localhost:8080/"
        },
        "id": "DXjgryF2jd38",
        "outputId": "04813718-4848-4677-a456-e5331f2e8198"
      },
      "execution_count": 10,
      "outputs": [
        {
          "output_type": "stream",
          "name": "stdout",
          "text": [
            "My name is Malaika and\n",
            "Aima is 19 old.\n"
          ]
        }
      ]
    },
    {
      "cell_type": "code",
      "source": [
        "print(\"Gujrat University\")\n",
        "print(\"Gujrat\\nUniversity\")\n",
        "print(\"Gujrat\\'University\")\n",
        "print(\"Gujrat\\\\University\")\n",
        "phrase =\"Gujrat University\"\n",
        "print(phrase)\n",
        "print(phrase, \"is the place where i study.\")\n",
        "print(phrase.lower())\n",
        "print(phrase.upper())\n",
        "print(phrase.isupper())\n",
        "print(phrase.upper().isupper())\n",
        "print(len(phrase))\n",
        "print(phrase[15])\n",
        "print(phrase.replace(\"Gujrat\",\"Punjab\"))\n",
        "print(phrase.index(\"U\"))"
      ],
      "metadata": {
        "colab": {
          "base_uri": "https://localhost:8080/"
        },
        "id": "Gz1d25f7oda5",
        "outputId": "b48de1e6-10b5-459b-f065-071bd0aa7e93"
      },
      "execution_count": 34,
      "outputs": [
        {
          "output_type": "stream",
          "name": "stdout",
          "text": [
            "Gujrat University\n",
            "Gujrat\n",
            "University\n",
            "Gujrat'University\n",
            "Gujrat\\University\n",
            "Gujrat University\n",
            "Gujrat University is the place where i study.\n",
            "gujrat university\n",
            "GUJRAT UNIVERSITY\n",
            "False\n",
            "True\n",
            "17\n",
            "t\n",
            "Punjab University\n",
            "7\n"
          ]
        }
      ]
    },
    {
      "cell_type": "code",
      "source": [
        "# First Python program\n",
        "print(\"Hello, World!\")\n",
        "\n",
        "# Variables\n",
        "name = \"Malaika\"\n",
        "age = 20\n",
        "print(\"My name is\", name, \"and I am\", age, \"years old.\")\n",
        "\n",
        "# Simple math\n",
        "x = 5\n",
        "y = 3\n",
        "print(\"x + y =\", x + y)\n",
        "\n",
        "# Comments example\n",
        "# This is a comment - Python ignores it\n"
      ],
      "metadata": {
        "colab": {
          "base_uri": "https://localhost:8080/"
        },
        "id": "RrvJRTVYrDLd",
        "outputId": "aefcb774-bc61-4034-bfbd-536454159116"
      },
      "execution_count": 31,
      "outputs": [
        {
          "output_type": "stream",
          "name": "stdout",
          "text": [
            "Hello, World!\n",
            "My name is Malaika and I am 20 years old.\n",
            "x + y = 8\n",
            "AIAIAI\n"
          ]
        }
      ]
    }
  ]
}