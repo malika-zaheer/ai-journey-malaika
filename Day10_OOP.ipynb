{
  "nbformat": 4,
  "nbformat_minor": 0,
  "metadata": {
    "colab": {
      "provenance": [],
      "authorship_tag": "ABX9TyMXceRk7hxP1x4ZMucACBV7",
      "include_colab_link": true
    },
    "kernelspec": {
      "name": "python3",
      "display_name": "Python 3"
    },
    "language_info": {
      "name": "python"
    }
  },
  "cells": [
    {
      "cell_type": "markdown",
      "metadata": {
        "id": "view-in-github",
        "colab_type": "text"
      },
      "source": [
        "<a href=\"https://colab.research.google.com/github/malika-zaheer/ai-journey-malaika/blob/main/Day10_OOP.ipynb\" target=\"_parent\"><img src=\"https://colab.research.google.com/assets/colab-badge.svg\" alt=\"Open In Colab\"/></a>"
      ]
    },
    {
      "cell_type": "code",
      "execution_count": 2,
      "metadata": {
        "colab": {
          "base_uri": "https://localhost:8080/"
        },
        "id": "iPUlz3MVH6ao",
        "outputId": "8876d4cb-c178-4ff6-837e-12d0d2b0347a"
      },
      "outputs": [
        {
          "output_type": "stream",
          "name": "stdout",
          "text": [
            "Toyota\n",
            "Honda Civic\n"
          ]
        }
      ],
      "source": [
        "class Car:\n",
        "    def __init__(self, brand, model):\n",
        "        self.brand = brand\n",
        "        self.model = model\n",
        "\n",
        "my_car = Car(\"Toyota\", \"Corolla\")   # object\n",
        "print(my_car.brand)\n",
        "\n",
        "#methods: functions inside classes\n",
        "class Car:\n",
        "    def __init__(self, brand, model):\n",
        "        self.brand = brand\n",
        "        self.model = model\n",
        "\n",
        "    def show_info(self):\n",
        "        print(f\"{self.brand} {self.model}\")\n",
        "\n",
        "car1 = Car(\"Honda\", \"Civic\")\n",
        "car1.show_info()\n"
      ]
    },
    {
      "cell_type": "code",
      "source": [
        "#mini-exercise\n",
        "class Student:\n",
        "  def __init__(self, name, age):\n",
        "      self.name = name\n",
        "      self.age = age\n",
        "  def greet(self):\n",
        "    print(\"Hello,my name is \", f\"{self.name}\",\"and i am \", f\"{self.age}\", \"years old.\")\n",
        "\n",
        "\n",
        "my_std = Student(\"Jim\", 19)\n",
        "std = Student(\"Kim\", 22)\n",
        "print(my_std.name)\n",
        "print(my_std.age)\n",
        "std.greet()"
      ],
      "metadata": {
        "colab": {
          "base_uri": "https://localhost:8080/"
        },
        "id": "oMrfZS2sItJ7",
        "outputId": "8890f686-1b3f-4240-b6be-6977013f64ad"
      },
      "execution_count": 7,
      "outputs": [
        {
          "output_type": "stream",
          "name": "stdout",
          "text": [
            "Jim\n",
            "19\n",
            "Hello,my name is  Kim and i am  22 years old.\n"
          ]
        }
      ]
    },
    {
      "cell_type": "markdown",
      "source": [
        "Quiz 10\n",
        "1. class\n",
        "2. used to initilize attributes and it runs automatically when the object is created\n",
        "3. class Car:\n",
        "    def __init__(self, brand, model):\n",
        "          self.brand = brand\n",
        "          self.model =  model\n",
        "   \n",
        "   car1= Car(\"Toyota\", \"Corolla\")\n",
        "4. functions are helpful in doing a task again anad again like we can create a function for adding two numbers and then instead of writing the complete code to add two numbers we can just simply call the add function to do that. and the method are the functions inside the classes (Functions are general reusable blocks of code, and methods are functions inside classes that usually work with object attributes.)\n",
        "5. True"
      ],
      "metadata": {
        "id": "IdxtUqxqMlGk"
      }
    }
  ]
}