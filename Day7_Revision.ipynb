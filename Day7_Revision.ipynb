{
  "nbformat": 4,
  "nbformat_minor": 0,
  "metadata": {
    "colab": {
      "provenance": [],
      "authorship_tag": "ABX9TyOUehEC67yWH+Wx4zjgcPPo",
      "include_colab_link": true
    },
    "kernelspec": {
      "name": "python3",
      "display_name": "Python 3"
    },
    "language_info": {
      "name": "python"
    }
  },
  "cells": [
    {
      "cell_type": "markdown",
      "metadata": {
        "id": "view-in-github",
        "colab_type": "text"
      },
      "source": [
        "<a href=\"https://colab.research.google.com/github/malika-zaheer/ai-journey-malaika/blob/main/Day7_Revision.ipynb\" target=\"_parent\"><img src=\"https://colab.research.google.com/assets/colab-badge.svg\" alt=\"Open In Colab\"/></a>"
      ]
    },
    {
      "cell_type": "code",
      "execution_count": 18,
      "metadata": {
        "colab": {
          "base_uri": "https://localhost:8080/"
        },
        "id": "LQP9sipNx0aG",
        "outputId": "629b704a-5041-4191-80cb-00743497ae5e"
      },
      "outputs": [
        {
          "output_type": "stream",
          "name": "stdout",
          "text": [
            "Pink\n",
            "81\n",
            "5\n",
            "4\n",
            "3\n",
            "2\n",
            "1\n"
          ]
        }
      ],
      "source": [
        "#Revision quiz\n",
        "1# Create a list of 3 colors and print the second one.\n",
        "colours = [\"Red\", \"Pink\", \"Black\"]\n",
        "print(colours[1])\n",
        "\n",
        "2# Output: Yes\n",
        "\n",
        "3# Write a function square(num) that returns the square of a number.\n",
        "def square(num):\n",
        "  return num*num\n",
        "result = square(9)\n",
        "print(result)\n",
        "\n",
        "4# Tuples are immutable\n",
        "\n",
        "5# Write a loop that prints numbers from 5 to 1 (in reverse).\n",
        "num = 5\n",
        "while num>0:\n",
        "  print(num)\n",
        "  num -=1"
      ]
    },
    {
      "cell_type": "code",
      "source": [
        "# Mini Project – Student Gradebook\n",
        "print(\"Student Gradebook\")\n",
        "gradebook = {}\n",
        "no_of_student = int(input(\"Enter the number of students: \"))\n",
        "for n in range(no_of_student):\n",
        "  student_name = input(\"Enter the name of student: \")\n",
        "  subject_marks = int(input(\"Enter marks for \" +student_name+ \":\"))\n",
        "  gradebook[student_name] = subject_marks\n",
        "print(gradebook)\n",
        "print(\"\\n--- Student Marks ---\")\n",
        "for name, marks in gradebook.items():\n",
        "  print(name,\":\", marks)\n",
        "average = sum(gradebook.values()) / len(gradebook)\n",
        "print(\"\\nAverage Marks:\", average)\n",
        "# Find highest and lowest\n",
        "highest_marks = max(gradebook.values())\n",
        "lowest_marks = min(gradebook.values())\n",
        "\n",
        "# Find corresponding students\n",
        "topper = [name for name, marks in gradebook.items() if marks == highest_marks]\n",
        "weakest = [name for name, marks in gradebook.items() if marks == lowest_marks]\n",
        "\n",
        "print(\"\\n Highest Marks:\", highest_marks, \"by\", \", \".join(topper))\n",
        "print(\" Lowest Marks:\", lowest_marks, \"by\", \", \".join(weakest))"
      ],
      "metadata": {
        "colab": {
          "base_uri": "https://localhost:8080/"
        },
        "id": "lEamFxZF1Yv6",
        "outputId": "8a2c56e7-ba33-4398-f80d-d1c44e3485e0"
      },
      "execution_count": 5,
      "outputs": [
        {
          "output_type": "stream",
          "name": "stdout",
          "text": [
            "Student Gradebook\n",
            "Enter the number of students: 2\n",
            "Enter the name of student: ali\n",
            "Enter marks for ali:45\n",
            "Enter the name of student: tim\n",
            "Enter marks for tim:43\n",
            "{'ali': 45, 'tim': 43}\n",
            "\n",
            "--- Student Marks ---\n",
            "ali : 45\n",
            "tim : 43\n",
            "\n",
            "Average Marks: 44.0\n",
            "\n",
            " Highest Marks: 45 by ali\n",
            " Lowest Marks: 43 by tim\n"
          ]
        }
      ]
    }
  ]
}